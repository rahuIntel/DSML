{
 "cells": [
  {
   "cell_type": "markdown",
   "metadata": {},
   "source": [
    "# Numpy Practice"
   ]
  },
  {
   "cell_type": "code",
   "execution_count": 1,
   "metadata": {},
   "outputs": [],
   "source": [
    "# To import the numpy module \n",
    "import numpy as np "
   ]
  },
  {
   "cell_type": "code",
   "execution_count": 2,
   "metadata": {},
   "outputs": [],
   "source": [
    "# Creation of teh list\n",
    "list1 = [1,2,3,4]"
   ]
  },
  {
   "cell_type": "code",
   "execution_count": 3,
   "metadata": {},
   "outputs": [],
   "source": [
    "# creating the numpy Array using the list object\n",
    "npa1 = np.array(list1)"
   ]
  },
  {
   "cell_type": "code",
   "execution_count": 4,
   "metadata": {},
   "outputs": [],
   "source": [
    "# printing the array\n",
    "print(npa1)\n",
    "npa1"
   ]
  },
  {
   "cell_type": "code",
   "execution_count": 5,
   "metadata": {},
   "outputs": [
    {
     "name": "stdout",
     "output_type": "stream",
     "text": [
      "<class 'list'>\n",
      "int8\n",
      "int16\n",
      "int32\n",
      "int64\n",
      "float32\n"
     ]
    }
   ],
   "source": [
    "# Changing dtype we can change the data type of the values according to our data\n",
    "\n",
    "list1 = [12,34,44,55]\n",
    "print(type(list1))\n",
    "arr1 = np.array(list1,dtype=\"int8\")\n",
    "print(arr1.dtype)\n",
    "arr1 = np.array(list1,dtype=\"int16\")\n",
    "print(arr1.dtype)\n",
    "arr1 = np.array(list1,dtype=\"int32\")\n",
    "print(arr1.dtype)\n",
    "arr1 = np.array(list1,dtype=\"int64\")\n",
    "print(arr1.dtype)\n",
    "arr1 = np.array(list1,dtype=\"float32\")\n",
    "print(arr1.dtype)"
   ]
  },
  {
   "cell_type": "code",
   "execution_count": 6,
   "metadata": {},
   "outputs": [
    {
     "name": "stdout",
     "output_type": "stream",
     "text": [
      "(1, 2, 3, 4, 5, 6)\n",
      "[1 2 3 4 5 6]\n"
     ]
    },
    {
     "data": {
      "text/plain": [
       "array([1, 2, 3, 4, 5, 6])"
      ]
     },
     "execution_count": 6,
     "metadata": {},
     "output_type": "execute_result"
    }
   ],
   "source": [
    "# Creation of the numpy array using the tuple\n",
    "\n",
    "tup1 = (1,2,3,4,5,6)\n",
    "print(tup1)\n",
    "arr1 = np.array(tup1)\n",
    "print(arr1)\n",
    "arr1"
   ]
  },
  {
   "cell_type": "code",
   "execution_count": 7,
   "metadata": {},
   "outputs": [
    {
     "name": "stdout",
     "output_type": "stream",
     "text": [
      "(6,)\n"
     ]
    }
   ],
   "source": [
    "# Getting the Shape of the array\n",
    "\n",
    "print(arr1.shape)"
   ]
  },
  {
   "cell_type": "code",
   "execution_count": 8,
   "metadata": {},
   "outputs": [
    {
     "data": {
      "text/plain": [
       "array([[1, 2, 3],\n",
       "       [4, 5, 6],\n",
       "       [7, 8, 9]])"
      ]
     },
     "execution_count": 8,
     "metadata": {},
     "output_type": "execute_result"
    }
   ],
   "source": [
    "# Two Dimensional Array using the Python Structure\n",
    "\n",
    "arr1 = np.array([[1,2,3],[4,5,6],[7,8,9]])\n",
    "arr1"
   ]
  },
  {
   "cell_type": "code",
   "execution_count": 9,
   "metadata": {},
   "outputs": [
    {
     "data": {
      "text/plain": [
       "(3, 3)"
      ]
     },
     "execution_count": 9,
     "metadata": {},
     "output_type": "execute_result"
    }
   ],
   "source": [
    "arr1.shape"
   ]
  },
  {
   "cell_type": "code",
   "execution_count": 10,
   "metadata": {},
   "outputs": [
    {
     "data": {
      "text/plain": [
       "9"
      ]
     },
     "execution_count": 10,
     "metadata": {},
     "output_type": "execute_result"
    }
   ],
   "source": [
    "arr1.size"
   ]
  },
  {
   "cell_type": "code",
   "execution_count": 11,
   "metadata": {},
   "outputs": [
    {
     "data": {
      "text/plain": [
       "array([[0., 0., 0., 0., 0.],\n",
       "       [0., 0., 0., 0., 0.],\n",
       "       [0., 0., 0., 0., 0.]])"
      ]
     },
     "execution_count": 11,
     "metadata": {},
     "output_type": "execute_result"
    }
   ],
   "source": [
    "# Creation of teh zero array\n",
    "\n",
    "zero_array = np.zeros((3,5))\n",
    "zero_array"
   ]
  },
  {
   "cell_type": "code",
   "execution_count": 12,
   "metadata": {},
   "outputs": [
    {
     "data": {
      "text/plain": [
       "(3, 5)"
      ]
     },
     "execution_count": 12,
     "metadata": {},
     "output_type": "execute_result"
    }
   ],
   "source": [
    "zero_array.shape"
   ]
  },
  {
   "cell_type": "code",
   "execution_count": 13,
   "metadata": {},
   "outputs": [
    {
     "data": {
      "text/plain": [
       "15"
      ]
     },
     "execution_count": 13,
     "metadata": {},
     "output_type": "execute_result"
    }
   ],
   "source": [
    "zero_array.size"
   ]
  },
  {
   "cell_type": "code",
   "execution_count": 14,
   "metadata": {},
   "outputs": [
    {
     "name": "stdout",
     "output_type": "stream",
     "text": [
      "[ 0  1  2  3  4  5  6  7  8  9 10 11 12 13 14]\n",
      "[ 1  2  3  4  5  6  7  8  9 10 11 12 13 14]\n"
     ]
    }
   ],
   "source": [
    "# creation of the array using 'arange()'\n",
    "# below code will create the array from 0-14\n",
    "arr1 = np.arange(15)\n",
    "print(arr1)\n",
    "# below code will create the array from 1-14\n",
    "arr2 = np.arange(1,15)\n",
    "print(arr2)"
   ]
  },
  {
   "cell_type": "code",
   "execution_count": 15,
   "metadata": {},
   "outputs": [
    {
     "name": "stdout",
     "output_type": "stream",
     "text": [
      "10 equi-distance numbers between 1 and 5:\n",
      " [1.         1.44444444 1.88888889 2.33333333 2.77777778 3.22222222\n",
      " 3.66666667 4.11111111 4.55555556 5.        ]\n",
      "\n",
      "\n",
      "10 equi-distance numbers between 1 and 5(With round() to truncate the decimals):\n",
      " [1.   1.44 1.89 2.33 2.78 3.22 3.67 4.11 4.56 5.  ]\n",
      "\n",
      "\n",
      "4 equi-distance numbers between 1 and 4:\n",
      " [1. 2. 3. 4.]\n",
      "\n",
      "\n",
      "20 equi-distance numbers between 1 and 10\n",
      " [ 1.    1.47  1.95  2.42  2.89  3.37  3.84  4.32  4.79  5.26  5.74  6.21\n",
      "  6.68  7.16  7.63  8.11  8.58  9.05  9.53 10.  ]\n"
     ]
    }
   ],
   "source": [
    "# linspace()\n",
    "\n",
    "# Below will create the 10 equi-distance numbers between 1 and 5\n",
    "arr1 = np.linspace(1,5,10)\n",
    "print(\"10 equi-distance numbers between 1 and 5:\\n\", arr1)\n",
    "\n",
    "# Below will create the 10 equi-distance numbers between 1 and 5\n",
    "# using the \"round()\" we can truncate the decimal places \n",
    "arr1 = np.round(np.linspace(1,5,10),2)\n",
    "print(\"\\n\\n10 equi-distance numbers between 1 and 5(With round() to truncate the decimals):\\n\", arr1)\n",
    "\n",
    "# Below will create the 4 equi-distance numbers between 1 and 4\n",
    "arr2 = np.round(np.linspace(1,4,4),2)\n",
    "print(\"\\n\\n4 equi-distance numbers between 1 and 4:\\n\",arr2)\n",
    "\n",
    "# Below will create the 20 equi-distance numbers between 1 and 10\n",
    "arr3 = np.round(np.linspace(1,10,20),2)\n",
    "print(\"\\n\\n20 equi-distance numbers between 1 and 10\\n\",arr3)\n",
    "\n"
   ]
  },
  {
   "cell_type": "code",
   "execution_count": 16,
   "metadata": {},
   "outputs": [
    {
     "name": "stdout",
     "output_type": "stream",
     "text": [
      "[[            nan 3.44886448e-307 4.28848981e-321 4.94065646e-324\n",
      "  4.44659081e-321]\n",
      " [4.22793571e-307 2.41104035e-321 1.05700260e-307 2.76676762e-321\n",
      "  2.13620807e-306]\n",
      " [4.46635344e-321 4.00536721e-307 4.15015143e-321 6.23040373e-307\n",
      "  4.03157567e-321]\n",
      " [6.23059725e-307 5.35567160e-321 1.00132653e-307 5.49400998e-321\n",
      "  1.69121095e-306]\n",
      " [5.53353523e-321 2.22526738e-307 5.39519685e-321 2.55896905e-307\n",
      "  5.84973725e-321]\n",
      " [3.00401098e-307 1.33508574e-306 3.44898501e-307 2.33645657e-307\n",
      "  2.44769838e-307]\n",
      " [4.45040576e-307 2.78147134e-307 6.89801416e-307 1.33508574e-306\n",
      "  3.44898501e-307]\n",
      " [2.33645657e-307 2.44769838e-307 4.45040576e-307 2.78147134e-307\n",
      "  6.89801416e-307]\n",
      " [4.00536043e-307 1.33508574e-306 3.44898671e-307 4.00536382e-307\n",
      "  1.61323712e-307]\n",
      " [2.67008863e-307 3.56035245e-307 1.61323966e-307 9.34609111e-307\n",
      "  1.06809792e-306]]\n"
     ]
    }
   ],
   "source": [
    "# We can create the empty array using the \"Empty Function which will \n",
    "# craete the array of the metioned size and shape with random values\"\n",
    "emp = np.empty((10,5))\n",
    "print(emp)"
   ]
  },
  {
   "cell_type": "code",
   "execution_count": 17,
   "metadata": {},
   "outputs": [
    {
     "name": "stdout",
     "output_type": "stream",
     "text": [
      "[[0. 0. 0. 0. 0.]\n",
      " [0. 0. 0. 0. 0.]\n",
      " [0. 0. 0. 0. 0.]]\n"
     ]
    }
   ],
   "source": [
    "# we can create the array of the same structure using the empty_like()\n",
    "# below will create the empty array with the structure same as zero_array\n",
    "emp_1 = np.empty_like(zero_array)\n",
    "print(emp_1)"
   ]
  },
  {
   "cell_type": "code",
   "execution_count": 18,
   "metadata": {},
   "outputs": [
    {
     "name": "stdout",
     "output_type": "stream",
     "text": [
      "[[1. 0. 0. 0. 0.]\n",
      " [0. 1. 0. 0. 0.]\n",
      " [0. 0. 1. 0. 0.]\n",
      " [0. 0. 0. 1. 0.]\n",
      " [0. 0. 0. 0. 1.]]\n",
      "Size : 25\n",
      "shape: (5, 5)\n"
     ]
    }
   ],
   "source": [
    "# We can create the identical matrix array using identity()\n",
    "a = np.identity(5)\n",
    "print(a)\n",
    "print(\"Size :\",a.size)\n",
    "print(\"shape:\",a.shape)"
   ]
  },
  {
   "cell_type": "code",
   "execution_count": 19,
   "metadata": {},
   "outputs": [
    {
     "name": "stdout",
     "output_type": "stream",
     "text": [
      "[ 0  1  2  3  4  5  6  7  8  9 10 11 12 13 14 15 16 17 18 19 20 21 22 23\n",
      " 24 25 26 27 28 29 30 31 32 33 34 35 36 37 38 39 40 41 42 43 44 45 46 47\n",
      " 48 49 50 51 52 53 54 55 56 57 58 59 60 61 62 63 64 65 66 67 68 69 70 71\n",
      " 72 73 74 75 76 77 78 79] \n",
      "\n",
      "\n",
      "[[ 0  1  2  3  4  5  6  7  8  9]\n",
      " [10 11 12 13 14 15 16 17 18 19]\n",
      " [20 21 22 23 24 25 26 27 28 29]\n",
      " [30 31 32 33 34 35 36 37 38 39]\n",
      " [40 41 42 43 44 45 46 47 48 49]\n",
      " [50 51 52 53 54 55 56 57 58 59]\n",
      " [60 61 62 63 64 65 66 67 68 69]\n",
      " [70 71 72 73 74 75 76 77 78 79]] \n",
      "\n",
      "\n",
      "[[ 0  1  2  3  4  5  6  7  8  9 10 11 12 13 14 15 16 17 18 19]\n",
      " [20 21 22 23 24 25 26 27 28 29 30 31 32 33 34 35 36 37 38 39]\n",
      " [40 41 42 43 44 45 46 47 48 49 50 51 52 53 54 55 56 57 58 59]\n",
      " [60 61 62 63 64 65 66 67 68 69 70 71 72 73 74 75 76 77 78 79]] \n",
      "\n",
      "\n",
      "[[ 0  1  2  3  4]\n",
      " [ 5  6  7  8  9]\n",
      " [10 11 12 13 14]\n",
      " [15 16 17 18 19]\n",
      " [20 21 22 23 24]\n",
      " [25 26 27 28 29]\n",
      " [30 31 32 33 34]\n",
      " [35 36 37 38 39]\n",
      " [40 41 42 43 44]\n",
      " [45 46 47 48 49]\n",
      " [50 51 52 53 54]\n",
      " [55 56 57 58 59]\n",
      " [60 61 62 63 64]\n",
      " [65 66 67 68 69]\n",
      " [70 71 72 73 74]\n",
      " [75 76 77 78 79]] \n",
      "\n",
      "\n"
     ]
    }
   ],
   "source": [
    "# creation of the multi dimensional array using reshape()\n",
    "# below will create the one dimetional array with 100 numbers\n",
    "tdim = np.arange(0,80)\n",
    "print(tdim,\"\\n\\n\")\n",
    "\n",
    "# below will create the 2 dimetional array with 100 numbers in 10x10 format\n",
    "tdim = np.arange(0,80).reshape(8,10)\n",
    "print(tdim,\"\\n\\n\")\n",
    "\n",
    "# below will create the 2 dimetional array \n",
    "# with 100 numbers when only column parameter is known (20)\n",
    "tdim1= np.arange(0,80).reshape(-1,20)\n",
    "print(tdim1,\"\\n\\n\")\n",
    "\n",
    "# below will create the 2 dimetional array \n",
    "# with 100 numbers when only column parameter is known (5)\n",
    "tdim2= np.arange(0,80).reshape(-1,5)\n",
    "print(tdim2,\"\\n\\n\")\n",
    "\n"
   ]
  },
  {
   "cell_type": "code",
   "execution_count": 20,
   "metadata": {},
   "outputs": [
    {
     "name": "stdout",
     "output_type": "stream",
     "text": [
      "Shape: (16, 5) \n",
      " [[ 0  1  2  3  4]\n",
      " [ 5  6  7  8  9]\n",
      " [10 11 12 13 14]\n",
      " [15 16 17 18 19]\n",
      " [20 21 22 23 24]\n",
      " [25 26 27 28 29]\n",
      " [30 31 32 33 34]\n",
      " [35 36 37 38 39]\n",
      " [40 41 42 43 44]\n",
      " [45 46 47 48 49]\n",
      " [50 51 52 53 54]\n",
      " [55 56 57 58 59]\n",
      " [60 61 62 63 64]\n",
      " [65 66 67 68 69]\n",
      " [70 71 72 73 74]\n",
      " [75 76 77 78 79]] \n",
      "\n",
      "\n",
      "Shape: (80,) \n",
      " [ 0  1  2  3  4  5  6  7  8  9 10 11 12 13 14 15 16 17 18 19 20 21 22 23\n",
      " 24 25 26 27 28 29 30 31 32 33 34 35 36 37 38 39 40 41 42 43 44 45 46 47\n",
      " 48 49 50 51 52 53 54 55 56 57 58 59 60 61 62 63 64 65 66 67 68 69 70 71\n",
      " 72 73 74 75 76 77 78 79] \n",
      "\n",
      "\n"
     ]
    }
   ],
   "source": [
    "# using teh ravel() we can change the \n",
    "# multi dimensional array into one dimensional array\n",
    "\n",
    "tdim2 = np.arange(0,80).reshape(-1,5)\n",
    "print(\"Shape:\",tdim2.shape,\"\\n\",tdim2,\"\\n\\n\")\n",
    "odim1 = tdim.ravel()\n",
    "print(\"Shape:\",odim1.shape,\"\\n\",odim1,\"\\n\\n\")"
   ]
  },
  {
   "cell_type": "code",
   "execution_count": 21,
   "metadata": {},
   "outputs": [
    {
     "name": "stdout",
     "output_type": "stream",
     "text": [
      "Full Matrix Sum:\t 45\n",
      "Columns Sum:\t\t [12 15 18]\n",
      "Row Sum:\t\t [ 6 15 24]\n"
     ]
    }
   ],
   "source": [
    "# creating the 2 dimensional array with 3 rows and 3 columns\n",
    "a1 = np.arange(1,10).reshape(3,3)\n",
    "a1\n",
    "\n",
    "# Sum of all the elements \n",
    "print(\"Full Matrix Sum:\\t\",a1.sum())\n",
    "\n",
    "# Column Sum\n",
    "print(\"Columns Sum:\\t\\t\",a1.sum(axis=0))\n",
    "\n",
    "# row Sum\n",
    "print(\"Row Sum:\\t\\t\",a1.sum(axis=1))"
   ]
  },
  {
   "cell_type": "code",
   "execution_count": 22,
   "metadata": {},
   "outputs": [
    {
     "name": "stdout",
     "output_type": "stream",
     "text": [
      " Original:\n",
      " [[1 2 3]\n",
      " [4 5 6]\n",
      " [7 8 9]] \n",
      "\n",
      " Transposed:\n",
      " [[1 4 7]\n",
      " [2 5 8]\n",
      " [3 6 9]]\n",
      "\n",
      "\n",
      " Original:\n",
      " [[1 2 3]\n",
      " [4 5 6]\n",
      " [7 8 9]] \n",
      "\n",
      " Transposed:\n",
      " [[1 4 7]\n",
      " [2 5 8]\n",
      " [3 6 9]]\n"
     ]
    }
   ],
   "source": [
    "# Transposing the matrix using transpose() or T\n",
    "\n",
    "print(\" Original:\\n\",a1,\"\\n\\n\",\"Transposed:\\n\",a1.transpose())\n",
    "print(\"\\n\\n Original:\\n\",a1,\"\\n\\n\",\"Transposed:\\n\",a1.T)"
   ]
  },
  {
   "cell_type": "code",
   "execution_count": 23,
   "metadata": {},
   "outputs": [
    {
     "data": {
      "text/plain": [
       "<numpy.flatiter at 0x1c20bf1a280>"
      ]
     },
     "execution_count": 23,
     "metadata": {},
     "output_type": "execute_result"
    }
   ],
   "source": [
    "a1.flat"
   ]
  },
  {
   "cell_type": "code",
   "execution_count": 24,
   "metadata": {},
   "outputs": [
    {
     "name": "stdout",
     "output_type": "stream",
     "text": [
      "1\n",
      "2\n",
      "3\n",
      "4\n",
      "5\n",
      "6\n",
      "7\n",
      "8\n",
      "9\n"
     ]
    }
   ],
   "source": [
    "# using flat we can iterate through the array elements \n",
    "for i in a1.flat:\n",
    "    print(i)"
   ]
  },
  {
   "cell_type": "code",
   "execution_count": 26,
   "metadata": {},
   "outputs": [
    {
     "data": {
      "text/plain": [
       "36"
      ]
     },
     "execution_count": 26,
     "metadata": {},
     "output_type": "execute_result"
    }
   ],
   "source": [
    "# We can get the informtion about how many bytes our array is consuming\n",
    "a1.nbytes"
   ]
  },
  {
   "cell_type": "markdown",
   "metadata": {},
   "source": [
    "# IMPORTANT : there are attribute and functions \n",
    "# array.abc : Calling attribute\n",
    "# array.abd() : Calling function"
   ]
  },
  {
   "cell_type": "code",
   "execution_count": 34,
   "metadata": {},
   "outputs": [
    {
     "name": "stdout",
     "output_type": "stream",
     "text": [
      "2\n",
      "4\n"
     ]
    }
   ],
   "source": [
    "# Argmax() : Provides the position of the max element in array\n",
    "a = np.array([1,2,32,3,4,13]) # max is 32 and index is at 2 \n",
    "print(a.argmax())\n",
    "\n",
    "a = np.array([1,2,32,322,433,13]) # max is 433 and index at 4\n",
    "print(a.argmax())\n"
   ]
  },
  {
   "cell_type": "code",
   "execution_count": 36,
   "metadata": {},
   "outputs": [
    {
     "name": "stdout",
     "output_type": "stream",
     "text": [
      "3\n",
      "5\n"
     ]
    }
   ],
   "source": [
    "# Argmin() : Provides the index position of the min element in array\n",
    "a = np.array([13,12,32,3,4,13]) # min is 3 and index is at 3 \n",
    "print(a.argmin())\n",
    "\n",
    "a = np.array([331,222,3233,32222,433,131]) # mix is 131 and index at 5\n",
    "print(a.argmin())\n"
   ]
  },
  {
   "cell_type": "code",
   "execution_count": 39,
   "metadata": {},
   "outputs": [
    {
     "data": {
      "text/plain": [
       "array([5, 1, 0, 4, 2, 3], dtype=int64)"
      ]
     },
     "execution_count": 39,
     "metadata": {},
     "output_type": "execute_result"
    }
   ],
   "source": [
    "# argsort() : Gives the array with the positional index in the sorted array\n",
    "a = np.array([331,222,3233,32222,433,131])\n",
    "a.argsort()\n",
    "# array([5,   1,   0,   4,   2,   3]\n",
    "#       131   222  331  433  3233 32222"
   ]
  },
  {
   "cell_type": "code",
   "execution_count": 40,
   "metadata": {},
   "outputs": [
    {
     "data": {
      "text/plain": [
       "array([  331,   222,  3233, 32222,   433,   131])"
      ]
     },
     "execution_count": 40,
     "metadata": {},
     "output_type": "execute_result"
    }
   ],
   "source": [
    "a"
   ]
  },
  {
   "cell_type": "code",
   "execution_count": 41,
   "metadata": {},
   "outputs": [
    {
     "data": {
      "text/plain": [
       "<memory at 0x000001C20E8BEA08>"
      ]
     },
     "execution_count": 41,
     "metadata": {},
     "output_type": "execute_result"
    }
   ],
   "source": [
    "a.data"
   ]
  },
  {
   "cell_type": "code",
   "execution_count": 42,
   "metadata": {},
   "outputs": [
    {
     "data": {
      "text/plain": [
       "  C_CONTIGUOUS : True\n",
       "  F_CONTIGUOUS : True\n",
       "  OWNDATA : True\n",
       "  WRITEABLE : True\n",
       "  ALIGNED : True\n",
       "  WRITEBACKIFCOPY : False\n",
       "  UPDATEIFCOPY : False"
      ]
     },
     "execution_count": 42,
     "metadata": {},
     "output_type": "execute_result"
    }
   ],
   "source": [
    "a.flags"
   ]
  },
  {
   "cell_type": "code",
   "execution_count": 46,
   "metadata": {},
   "outputs": [
    {
     "data": {
      "text/plain": [
       "24"
      ]
     },
     "execution_count": 46,
     "metadata": {},
     "output_type": "execute_result"
    }
   ],
   "source": [
    "a.size * a.itemsize"
   ]
  },
  {
   "cell_type": "code",
   "execution_count": 78,
   "metadata": {},
   "outputs": [
    {
     "name": "stdout",
     "output_type": "stream",
     "text": [
      "104\n",
      "Memory Space taken by the List:\t\t 520\n",
      "Memory Space taken by the Numpy Array:\t 25\n"
     ]
    }
   ],
   "source": [
    "# Numpy array does take very less space. TO proof let us see\n",
    "\n",
    "# importing the sys module\n",
    "import sys\n",
    "\n",
    "# creating a Python List\n",
    "py_a=[1,2,3,4,5]\n",
    "print(sys.getsizeof(py_a))\n",
    "\n",
    "# getting the size of the List\n",
    "size_py_a = len(py_a)*sys.getsizeof(py_a)\n",
    "print(\"Memory Space taken by the List:\\t\\t\",size_py_a)\n",
    "\n",
    "# Creating the array using Pythn list\n",
    "np_a = np.array(py_a)\n",
    "\n",
    "# Calculating the size of the array\n",
    "size_np_a = np_a.size*len(np_a)\n",
    "print(\"Memory Space taken by the Numpy Array:\\t\",size_np_a)"
   ]
  },
  {
   "cell_type": "code",
   "execution_count": null,
   "metadata": {},
   "outputs": [],
   "source": []
  }
 ],
 "metadata": {
  "kernelspec": {
   "display_name": "Python 3",
   "language": "python",
   "name": "python3"
  },
  "language_info": {
   "codemirror_mode": {
    "name": "ipython",
    "version": 3
   },
   "file_extension": ".py",
   "mimetype": "text/x-python",
   "name": "python",
   "nbconvert_exporter": "python",
   "pygments_lexer": "ipython3",
   "version": "3.7.3"
  }
 },
 "nbformat": 4,
 "nbformat_minor": 2
}

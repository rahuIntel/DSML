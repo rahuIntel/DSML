{
 "cells": [
  {
   "cell_type": "code",
   "execution_count": 23,
   "metadata": {},
   "outputs": [],
   "source": [
    "food = 'abcdefghijklmnopqrstuvwxyz'"
   ]
  },
  {
   "cell_type": "code",
   "execution_count": 24,
   "metadata": {},
   "outputs": [
    {
     "data": {
      "text/plain": [
       "'abcdefghijklmnopqrstuvwxyz'"
      ]
     },
     "execution_count": 24,
     "metadata": {},
     "output_type": "execute_result"
    }
   ],
   "source": [
    "food"
   ]
  },
  {
   "cell_type": "code",
   "execution_count": 25,
   "metadata": {},
   "outputs": [
    {
     "data": {
      "text/plain": [
       "'d'"
      ]
     },
     "execution_count": 25,
     "metadata": {},
     "output_type": "execute_result"
    }
   ],
   "source": [
    "food[3]"
   ]
  },
  {
   "cell_type": "code",
   "execution_count": 26,
   "metadata": {},
   "outputs": [
    {
     "data": {
      "text/plain": [
       "'abcdefghijklmnopqrstuvwxyz'"
      ]
     },
     "execution_count": 26,
     "metadata": {},
     "output_type": "execute_result"
    }
   ],
   "source": [
    "food[::]"
   ]
  },
  {
   "cell_type": "code",
   "execution_count": 27,
   "metadata": {},
   "outputs": [
    {
     "data": {
      "text/plain": [
       "'cfilorux'"
      ]
     },
     "execution_count": 27,
     "metadata": {},
     "output_type": "execute_result"
    }
   ],
   "source": [
    "food[2::3]"
   ]
  },
  {
   "cell_type": "code",
   "execution_count": 28,
   "metadata": {},
   "outputs": [
    {
     "data": {
      "text/plain": [
       "26"
      ]
     },
     "execution_count": 28,
     "metadata": {},
     "output_type": "execute_result"
    }
   ],
   "source": [
    "len(food)"
   ]
  },
  {
   "cell_type": "code",
   "execution_count": 32,
   "metadata": {},
   "outputs": [
    {
     "data": {
      "text/plain": [
       "'zwtqnkheb'"
      ]
     },
     "execution_count": 32,
     "metadata": {},
     "output_type": "execute_result"
    }
   ],
   "source": [
    "food[-1:0:-3]"
   ]
  },
  {
   "cell_type": "code",
   "execution_count": 43,
   "metadata": {},
   "outputs": [],
   "source": [
    "statment = \"today is the day when indian constitution has been killed by the BJP\""
   ]
  },
  {
   "cell_type": "code",
   "execution_count": 44,
   "metadata": {},
   "outputs": [
    {
     "data": {
      "text/plain": [
       "True"
      ]
     },
     "execution_count": 44,
     "metadata": {},
     "output_type": "execute_result"
    }
   ],
   "source": [
    "\"bjp\".upper() in statment"
   ]
  },
  {
   "cell_type": "code",
   "execution_count": 45,
   "metadata": {},
   "outputs": [
    {
     "data": {
      "text/plain": [
       "'today is the day when indian constitution has been killed by the APP'"
      ]
     },
     "execution_count": 45,
     "metadata": {},
     "output_type": "execute_result"
    }
   ],
   "source": [
    "statment.replace('BJP','APP')"
   ]
  },
  {
   "cell_type": "code",
   "execution_count": 46,
   "metadata": {},
   "outputs": [
    {
     "data": {
      "text/plain": [
       "'today is the day when indian constitution has been killed by the BJP'"
      ]
     },
     "execution_count": 46,
     "metadata": {},
     "output_type": "execute_result"
    }
   ],
   "source": [
    "statment"
   ]
  },
  {
   "cell_type": "code",
   "execution_count": 47,
   "metadata": {},
   "outputs": [],
   "source": [
    "newstat = statment.replace('BJP','APP')\n"
   ]
  },
  {
   "cell_type": "code",
   "execution_count": 48,
   "metadata": {},
   "outputs": [
    {
     "data": {
      "text/plain": [
       "'today is the day when indian constitution has been killed by the APP'"
      ]
     },
     "execution_count": 48,
     "metadata": {},
     "output_type": "execute_result"
    }
   ],
   "source": [
    "newstat\n"
   ]
  },
  {
   "cell_type": "code",
   "execution_count": 49,
   "metadata": {},
   "outputs": [
    {
     "data": {
      "text/plain": [
       "4"
      ]
     },
     "execution_count": 49,
     "metadata": {},
     "output_type": "execute_result"
    }
   ],
   "source": [
    "statment.index('y')"
   ]
  },
  {
   "cell_type": "code",
   "execution_count": 53,
   "metadata": {},
   "outputs": [
    {
     "data": {
      "text/plain": [
       "3"
      ]
     },
     "execution_count": 53,
     "metadata": {},
     "output_type": "execute_result"
    }
   ],
   "source": [
    "statment.count('y')"
   ]
  },
  {
   "cell_type": "code",
   "execution_count": 57,
   "metadata": {},
   "outputs": [
    {
     "name": "stdout",
     "output_type": "stream",
     "text": [
      "abc\n",
      "pune\n",
      "india\n",
      "abc\n",
      "pune\n",
      "india\n"
     ]
    }
   ],
   "source": [
    "# create three variable 'streat','city' and 'country' and create a 4th variable 'address' using concatenatig them using + and f''\n",
    "# print the values of the address in new line\n",
    "streat='abc'\n",
    "city='pune'\n",
    "country='india'\n",
    "address1 = streat+' '+city+' '+country\n",
    "address2 = f\"{streat} {city} {country}\"\n",
    "print(address1.replace(' ','\\n'))\n",
    "print(address2.replace(' ','\\n'))"
   ]
  },
  {
   "cell_type": "code",
   "execution_count": 79,
   "metadata": {},
   "outputs": [
    {
     "name": "stdout",
     "output_type": "stream",
     "text": [
      "revolves \n",
      "sun\n"
     ]
    }
   ],
   "source": [
    "# Craete a variable to store the string \"Earth revolves aroud the sun\"\n",
    "# print the \"revolves\"\n",
    "# print the \"sun\" using -ve index\n",
    "string1 = \"Earth revolves aroud the sun\"\n",
    "print(string1[6:15])\n",
    "print(string1[-3:])"
   ]
  },
  {
   "cell_type": "code",
   "execution_count": 85,
   "metadata": {},
   "outputs": [
    {
     "name": "stdout",
     "output_type": "stream",
     "text": [
      "I eat 4 fruits and 3 vegitables daily\n",
      "I eat 4 fruits and 3 vegitables daily\n"
     ]
    }
   ],
   "source": [
    "# Create two variables and print the strings in formated way using the f\"\" and normal\n",
    "fruits = 4\n",
    "vegi = 3\n",
    "print(\"I eat\",fruits,'fruits and',vegi,'vegitables daily')\n",
    "print(f\"I eat {fruits} fruits and {vegi} vegitables daily\")"
   ]
  },
  {
   "cell_type": "code",
   "execution_count": 89,
   "metadata": {},
   "outputs": [
    {
     "name": "stdout",
     "output_type": "stream",
     "text": [
      "maine 200 banana khaye\n",
      "maine 10 samose khaye\n"
     ]
    }
   ],
   "source": [
    "str1 = 'maine 200 banana khaye'\n",
    "str2 = str1.replace('200','10').replace('banana','samose')\n",
    "print(str1)\n",
    "print(str2)"
   ]
  },
  {
   "cell_type": "code",
   "execution_count": 90,
   "metadata": {},
   "outputs": [
    {
     "name": "stdout",
     "output_type": "stream",
     "text": [
      "Enter the height of the traingle:12\n",
      "Enter the width of the traingle:3\n",
      "Area is :  18.0\n"
     ]
    }
   ],
   "source": [
    "# Write a program that can find area of a triangle. \n",
    "# It should take base and height as an input from user \n",
    "# and using that it should print an area of a triangle\n",
    "\n",
    "height = int(input('Enter the height of the traingle:'))\n",
    "width = int(input('Enter the width of the traingle:'))\n",
    "\n",
    "area = (1/2)*(height * width)\n",
    "print(\"Area is : \",area)"
   ]
  },
  {
   "cell_type": "code",
   "execution_count": 93,
   "metadata": {},
   "outputs": [
    {
     "name": "stdout",
     "output_type": "stream",
     "text": [
      "Enter File Name:exm.s\n",
      "exm\n"
     ]
    }
   ],
   "source": [
    "# Write a program that takes file name with extension as an input \n",
    "# and prints just the file name without extension (you can assume \n",
    "# that file extensions are always 3 character long)\n",
    "\n",
    "filename = input('Enter File Name:')\n",
    "print(filename[0:filename.index('.')])"
   ]
  },
  {
   "cell_type": "code",
   "execution_count": 110,
   "metadata": {},
   "outputs": [
    {
     "name": "stdout",
     "output_type": "stream",
     "text": [
      "1. In Feb 150\n",
      "first quarter: 7150\n",
      "Is there 2000 dollars in any month: False\n",
      "June month just finished and your expense is 1980 dollar: [2200, 2350, 2600, 2130, 2190, 1980]\n",
      "Make a correction to your monthly : [2200, 2350, 2600, 1930, 2190, 1980]\n"
     ]
    }
   ],
   "source": [
    "''' \n",
    "Let us say your expense for every month are listed below,\n",
    "    January - 2200\n",
    "    February - 2350\n",
    "    March - 2600\n",
    "    April - 2130\n",
    "    May - 2190 \n",
    "Create a list to store these monthly expenses and using that find out,\n",
    "\n",
    "1. In Feb, how many dollars you spent extra compare to January?\n",
    "2. Find out your total expense in first quarter (first three months) of the year.\n",
    "3. Find out if you spent exactly 2000 dollars in any month\n",
    "4. June month just finished and your expense is 1980 dollar. Add this item to our monthly expense list\n",
    "5. You returned an item that you bought in a month of April and\n",
    "got a refund of 200$. Make a correction to your monthly expense list\n",
    "based on this\n",
    "'''\n",
    "\n",
    "expenses = [2200,2350,2600,2130,2190]\n",
    "extra = expenses[1]-expenses[0]\n",
    "print(\"1. In Feb\",extra)\n",
    "first_quarter= sum(expenses[0:3])\n",
    "print(\"first quarter:\",first_quarter)\n",
    "any_mon_2000 = 2000 in expenses\n",
    "print(\"Is there 2000 dollars in any month:\",any_mon_2000)\n",
    "expenses.append(1980)\n",
    "print(\"June month just finished and your expense is 1980 dollar:\",expenses)\n",
    "expenses[3]=expenses[3]-200\n",
    "print(\"Make a correction to your monthly :\",expenses)\n",
    "\n"
   ]
  },
  {
   "cell_type": "code",
   "execution_count": 111,
   "metadata": {},
   "outputs": [
    {
     "name": "stdout",
     "output_type": "stream",
     "text": [
      "Length of the list: 5\n",
      "Added the 'Black Panther' : ['spider man', 'thor', 'hulk', 'iron man', 'captain america', 'black panther']\n",
      "Added the 'Black Panther' after 'Hulk': ['spider man', 'thor', 'hulk', 'Black Penther', 'iron man', 'captain america', 'black panther']\n",
      "Replaced the thor and hulk with doctor strange: ['spider man', 'doctor strange', 'Black Penther', 'iron man', 'captain america', 'black panther']\n",
      "Sorted List: ['Black Penther', 'black panther', 'captain america', 'doctor strange', 'iron man', 'spider man']\n"
     ]
    }
   ],
   "source": [
    "heros=['spider man','thor','hulk','iron man','captain america']\n",
    "print(\"Length of the list:\",len(heros))\n",
    "heros.append('black panther')\n",
    "print(\"Added the 'Black Panther' :\",heros)\n",
    "heros.insert(3,'Black Penther')\n",
    "print(\"Added the 'Black Panther' after 'Hulk':\",heros)\n",
    "heros[1:3]=['doctor strange']\n",
    "print(\"Replaced the thor and hulk with doctor strange:\",heros)\n",
    "heros.sort()\n",
    "print(\"Sorted List:\",heros)"
   ]
  },
  {
   "cell_type": "code",
   "execution_count": 115,
   "metadata": {},
   "outputs": [
    {
     "name": "stdout",
     "output_type": "stream",
     "text": [
      "Enter the City Name:xys\n",
      "Wrong City\n"
     ]
    }
   ],
   "source": [
    "india = [\"mumbai\", \"banglore\", \"chennai\", \"delhi\"]\n",
    "pakistan = [\"lahore\",\"karachi\",\"islamabad\"]\n",
    "bangladesh = [\"dhaka\", \"khulna\", \"rangpur\"]\n",
    "city = input(\"Enter the City Name:\")\n",
    "if city in india:\n",
    "    print(\"City Belongs to India\")\n",
    "elif city in pakistan:\n",
    "    print(\"City Belongs to Pakistan\")\n",
    "elif city in bangladesh:\n",
    "    print(\"City Belongs to Bangladesh\")\n",
    "else:\n",
    "    print(\"Wrong City\")\n",
    "        "
   ]
  },
  {
   "cell_type": "code",
   "execution_count": 4,
   "metadata": {},
   "outputs": [
    {
     "name": "stdout",
     "output_type": "stream",
     "text": [
      "china ==> 143\n",
      "india ==> 136\n",
      "usa ==> 35\n",
      "pakistan ==> 23\n"
     ]
    }
   ],
   "source": [
    "country = {'china':143,'india':136,'usa':35,'pakistan':23}\n",
    "for item in country:\n",
    "    print(item,\"==>\",country[item])"
   ]
  },
  {
   "cell_type": "code",
   "execution_count": 23,
   "metadata": {},
   "outputs": [
    {
     "name": "stdout",
     "output_type": "stream",
     "text": [
      "\n",
      "1. Print\n",
      "2. Add\n",
      "3. remove\n",
      "4. query\n",
      "\n",
      "Enter your Choice:2\n",
      "Enter Country Name:usa\n",
      "Country Already Exist\n",
      "{'china': 143, 'india': 136, 'usa': 35, 'pakistan': 23}\n"
     ]
    }
   ],
   "source": [
    "print('''\n",
    "1. Print\n",
    "2. Add\n",
    "3. remove\n",
    "4. query\n",
    "''')\n",
    "choice = int(input(\"Enter your Choice:\"))\n",
    "if choice==1:\n",
    "    for item in country:\n",
    "        print(item,\"==>\",country[item])\n",
    "\n",
    "elif choice ==2:\n",
    "    cntry = input(\"Enter Country Name:\")\n",
    "    if cntry in country:\n",
    "        print(\"Country Already Exist\")\n",
    "    else:\n",
    "        population = int(input(\"Enter Population:\"))\n",
    "        country[cntry]=population\n",
    "    print(country)\n",
    "    \n",
    "elif choice == 3:\n",
    "    cntry = input(\"Enter Country Name to remove:\")\n",
    "    if cntry not in country:\n",
    "        print(\"Country doestn't Exist\")\n",
    "    else:\n",
    "        country.popitem()\n",
    "    print(country)\n",
    "    \n",
    "elif choice == 4:\n",
    "    cntry = input(\"Enter Country Name to query:\")\n",
    "    print(country.get(cntry))\n",
    "             "
   ]
  },
  {
   "cell_type": "code",
   "execution_count": null,
   "metadata": {},
   "outputs": [],
   "source": []
  },
  {
   "cell_type": "code",
   "execution_count": null,
   "metadata": {},
   "outputs": [],
   "source": []
  }
 ],
 "metadata": {
  "kernelspec": {
   "display_name": "Python 3",
   "language": "python",
   "name": "python3"
  },
  "language_info": {
   "codemirror_mode": {
    "name": "ipython",
    "version": 3
   },
   "file_extension": ".py",
   "mimetype": "text/x-python",
   "name": "python",
   "nbconvert_exporter": "python",
   "pygments_lexer": "ipython3",
   "version": "3.7.3"
  }
 },
 "nbformat": 4,
 "nbformat_minor": 2
}

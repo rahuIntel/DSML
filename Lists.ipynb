{
 "cells": [
  {
   "cell_type": "code",
   "execution_count": 1,
   "metadata": {},
   "outputs": [
    {
     "name": "stdout",
     "output_type": "stream",
     "text": [
      "['INDIA', 'USA', 'UK', 'CANADA', 'AUS']\n",
      "['INDIA', 'USA', 'UK', 'CANADA', 'AUS', 'JAPAN']\n",
      "['INDIA', 'USA', 'UK', 'RUSSIA', 'CANADA', 'AUS', 'JAPAN']\n",
      "['INDIA', 'USA', 'UK', 'RUSSIA', 'AUS', 'JAPAN']\n"
     ]
    }
   ],
   "source": [
    "# List operations \n",
    "\n",
    "countries = ['INDIA','USA','UK','CANADA','AUS']\n",
    "print(countries)\n",
    "countries.append('JAPAN')\n",
    "print(countries)\n",
    "countries.insert(3,'RUSSIA')\n",
    "print(countries)\n",
    "countries.remove(countries[4])\n",
    "print(countries)\n"
   ]
  },
  {
   "cell_type": "code",
   "execution_count": 2,
   "metadata": {},
   "outputs": [
    {
     "name": "stdout",
     "output_type": "stream",
     "text": [
      "Enter Maths Marks : 11\n",
      "Enter Physics Marks : 11\n",
      "Enter Chemistry Marks : 11\n",
      "Failed\n",
      "Grade = C\n"
     ]
    }
   ],
   "source": [
    "# Accepting marks of a student and printing the grades \n",
    "math = int(input(\"Enter Maths Marks : \"))\n",
    "phys = int(input(\"Enter Physics Marks : \"))\n",
    "chem = int(input(\"Enter Chemistry Marks : \"))\n",
    "total = math+phys+chem\n",
    "if math < 35:\n",
    "    print(\"Failed\")\n",
    "elif phys < 35:\n",
    "    print(\"Failed\")\n",
    "elif chem < 35:\n",
    "    print(\"Failed\")\n",
    "grad = total/3\n",
    "if grad<60:\n",
    "    print('Grade = C')\n",
    "elif grad<70:\n",
    "    print('Grade = B')\n",
    "elif grad>70:\n",
    "    print('Grade = A')\n",
    "    \n",
    "    \n",
    "\n",
    "\n",
    "\n",
    "\n",
    "\n"
   ]
  },
  {
   "cell_type": "code",
   "execution_count": 3,
   "metadata": {},
   "outputs": [
    {
     "name": "stdout",
     "output_type": "stream",
     "text": [
      "Enter a Number :22\n",
      "1\n",
      "2\n",
      "3\n",
      "4\n",
      "5\n",
      "6\n",
      "7\n",
      "8\n",
      "9\n",
      "11\n",
      "12\n",
      "13\n",
      "14\n",
      "15\n",
      "16\n",
      "17\n",
      "18\n",
      "19\n",
      "21\n",
      "22\n"
     ]
    }
   ],
   "source": [
    "# accepting a number and print the number till that number but if number is divisible by 10 \n",
    "x = int(input(\"Enter a Number :\"))\n",
    "for i in range (1,x+1):\n",
    "    if i >= 100:\n",
    "        break\n",
    "    if (i%10) == 0:\n",
    "        continue\n",
    "    print (i)"
   ]
  },
  {
   "cell_type": "code",
   "execution_count": 4,
   "metadata": {},
   "outputs": [
    {
     "name": "stdout",
     "output_type": "stream",
     "text": [
      "Enter a Number :22\n",
      "The Number provided 22 is not the prime number\n"
     ]
    }
   ],
   "source": [
    "# Accepting the number from the user and printing all the prime numbers till that number \n",
    "x = int(input(\"Enter a Number :\"))\n",
    "prime = True\n",
    "for i in range (2, x-1):\n",
    "    if x%i == 0:\n",
    "        prime = False\n",
    "if (prime):\n",
    "    print(\"The Number provided\", x, \"is the prime number\")\n",
    "else:\n",
    "    print(\"The Number provided\", x, \"is not the prime number\")"
   ]
  },
  {
   "cell_type": "code",
   "execution_count": 5,
   "metadata": {},
   "outputs": [
    {
     "name": "stdout",
     "output_type": "stream",
     "text": [
      "123\n",
      "234\n",
      "357\n",
      "234\n",
      "357\n"
     ]
    }
   ],
   "source": [
    "# Global and Local Variables and Accessing the global variable using the globals()\n",
    "# also assigning the variable to a function\n",
    "x=123\n",
    "def disp():\n",
    "    x=234\n",
    "    print(x)\n",
    "    print(globals()['x']+x)\n",
    "print(x)\n",
    "z=disp\n",
    "z()\n",
    "z()       "
   ]
  },
  {
   "cell_type": "markdown",
   "metadata": {},
   "source": [
    "###  Function Within a function\n",
    "def greet(name):\n",
    "    def hagd():\n",
    "        return \"Have a Great Day !!! \"\n",
    "    greetings = hagd() + name \n",
    "    return greetings\n",
    "print(greet(\"name\"))\n",
    "        "
   ]
  },
  {
   "cell_type": "code",
   "execution_count": 6,
   "metadata": {},
   "outputs": [
    {
     "name": "stdout",
     "output_type": "stream",
     "text": [
      "Enter a number: 22\n",
      "253\n"
     ]
    }
   ],
   "source": [
    "# find the sum of the numbers till the provided number recursively\n",
    "\n",
    "def sumofnumbers(n):\n",
    "    if n == 0:\n",
    "        return 0\n",
    "    else:\n",
    "        return n+sumofnumbers(n-1)\n",
    "\n",
    "n = int(input(\"Enter a number: \"))\n",
    "print(sumofnumbers(n))\n",
    "    "
   ]
  },
  {
   "cell_type": "code",
   "execution_count": 7,
   "metadata": {},
   "outputs": [
    {
     "name": "stdout",
     "output_type": "stream",
     "text": [
      "Enter a number for which power os needed: 2\n",
      "Enter the power for the given number:3\n",
      "8\n"
     ]
    }
   ],
   "source": [
    "# find the power of the given values\n",
    "def power_of_number(a,b):\n",
    "    if b==0:\n",
    "        return 1\n",
    "    else:\n",
    "        return a * power_of_number(a,b-1)\n",
    "a = int(input(\"Enter a number for which power os needed: \"))\n",
    "b = int(input(\"Enter the power for the given number:\"))\n",
    "\n",
    "print(power_of_number(a,b))"
   ]
  },
  {
   "cell_type": "code",
   "execution_count": 8,
   "metadata": {},
   "outputs": [
    {
     "name": "stdout",
     "output_type": "stream",
     "text": [
      "125\n"
     ]
    }
   ],
   "source": [
    "# using of the Lambda\n",
    "\n",
    "cube = lambda x : x**3\n",
    "\n",
    "print(cube(5))"
   ]
  },
  {
   "cell_type": "code",
   "execution_count": 9,
   "metadata": {},
   "outputs": [
    {
     "name": "stdout",
     "output_type": "stream",
     "text": [
      "False\n"
     ]
    }
   ],
   "source": [
    "even_odd = lambda x : True if x%2==0 else False\n",
    "flag = even_odd(3)\n",
    "print(flag)"
   ]
  },
  {
   "cell_type": "code",
   "execution_count": 10,
   "metadata": {},
   "outputs": [
    {
     "name": "stdout",
     "output_type": "stream",
     "text": [
      "43\n"
     ]
    }
   ],
   "source": [
    "# calculate the sum of two numbers using lambda\n",
    "sumoftwo = lambda a,b : a+b\n",
    "print(sumoftwo(10,33))\n"
   ]
  },
  {
   "cell_type": "code",
   "execution_count": 12,
   "metadata": {},
   "outputs": [
    {
     "name": "stdout",
     "output_type": "stream",
     "text": [
      "Even Digits [66, 26, 24, 6, 26, 78, 78, 664, 68, 4, 8, 6, 66, 44, 336, 864, 74, 5456]\n",
      "Odd Digits: [11, 33, 33, 5, 889, 45, 37, 53, 95, 3, 3, 33, 5, 7, 33, 5, 3, 45]\n",
      "Float Digits: []\n",
      "Children: [11, 6, 5, 3, 3, 5, 4, 7, 8, 6, 5, 3]\n",
      "Teenagers: []\n",
      "Young_Adults: [33, 26, 24, 33, 26, 33, 33]\n",
      "Mature_adults: [45, 37, 53, 44, 45]\n",
      "Retired: [66, 78, 78, 68, 66, 74]\n",
      "Super_senior: [95]\n",
      "Incorrect Data:  [889, 664, 336, 864, 5456]\n"
     ]
    }
   ],
   "source": [
    "# extract the even odd and flaot numbers from the list and create saparate lists\n",
    "# using the FILTER\n",
    "l1 = [11,66,33,26,24,6,33,26,78,5,889,45,37,53,78,95,3,3,664,33,68,5,4,7,8,6,66,44,336,864,33,5,3,74,5456,45]\n",
    "evendigits = list(filter(lambda x: x%2==0, l1))\n",
    "print (\"Even Digits\",evendigits)\n",
    "odddigits = list(filter(lambda x: x%2==1, l1))\n",
    "print (\"Odd Digits:\", odddigits)\n",
    "floatdigits = list(filter(lambda x: x%int(x) < 1.0 and x%int(x) > 0.0, l1))\n",
    "print (\"Float Digits:\",floatdigits)\n",
    "children = list(filter(lambda x : x<13 , l1))\n",
    "print(\"Children:\", children)\n",
    "teenagers = list(filter(lambda x : x>=13 and x<19, l1))\n",
    "print(\"Teenagers:\", teenagers)\n",
    "young_adults = list(filter(lambda x : x>=18 and x<35, l1))\n",
    "print(\"Young_Adults:\", young_adults)\n",
    "mature_adults = list(filter(lambda x : x>=35 and x<60, l1))\n",
    "print(\"Mature_adults:\", mature_adults)\n",
    "retired = list(filter(lambda x : x>=60 and x<80, l1))\n",
    "print(\"Retired:\",retired)\n",
    "super_senior = list(filter(lambda x : x>=80 and x<110, l1))\n",
    "print(\"Super_senior:\",super_senior)\n",
    "incorrect_data = list(filter(lambda x : x>=110, l1))\n",
    "print(\"Incorrect Data: \",incorrect_data)\n"
   ]
  },
  {
   "cell_type": "code",
   "execution_count": 13,
   "metadata": {},
   "outputs": [
    {
     "name": "stdout",
     "output_type": "stream",
     "text": [
      "0\n"
     ]
    }
   ],
   "source": [
    "a= 434\n",
    "print(a%int(a))"
   ]
  },
  {
   "cell_type": "code",
   "execution_count": 14,
   "metadata": {},
   "outputs": [
    {
     "name": "stdout",
     "output_type": "stream",
     "text": [
      "[121, 484, 1089, 1936, 3025]\n"
     ]
    }
   ],
   "source": [
    "# craete a new list of elements by doubling the values of the original list\n",
    "# using the MAPo       \n",
    "l1 = [11,22,33,44,55]\n",
    "square = list(map(lambda x: x*x, l1))\n",
    "print(square)"
   ]
  },
  {
   "cell_type": "code",
   "execution_count": 22,
   "metadata": {},
   "outputs": [
    {
     "name": "stdout",
     "output_type": "stream",
     "text": [
      "['RAHUL', 'JAIN', 'IS LIVING', 'IN PUNE', 'CITY', 'WHICH', 'IS', 'GREAT', 'PLACE', 'TO', 'LIVE']\n"
     ]
    }
   ],
   "source": [
    "string1 = [\"Rahul\", \"jain\", 'is living','in pune','city','which','is','great','place','to','live']\n",
    "caps = list(map(lambda x: x.upper(), string1))\n",
    "print(caps)"
   ]
  },
  {
   "cell_type": "code",
   "execution_count": 43,
   "metadata": {},
   "outputs": [
    {
     "name": "stdout",
     "output_type": "stream",
     "text": [
      "Common Elements:  [3, 4, 5, 4, 3, 4, 5, 65]\n",
      "[3, 4, 5, 4, 3, 4, 5, 65]\n"
     ]
    }
   ],
   "source": [
    "l1 = [1,2,3,4,629,32,442,32,5,4,3,4,5,65]\n",
    "l2 = [4,5,6,34,53,5,54,554,3,34,66,566,55,45,65,6,7]\n",
    "l3 = []\n",
    "l4 = []\n",
    "for i in l1:\n",
    "    if i in l2:\n",
    "        l3.append(i)\n",
    "print(\"Common Elements: \", l3)\n",
    "l4=[i for i in l1 if i in l2]\n",
    "print(l4)\n",
    "\n",
    "\n",
    "    "
   ]
  },
  {
   "cell_type": "code",
   "execution_count": null,
   "metadata": {},
   "outputs": [],
   "source": []
  }
 ],
 "metadata": {
  "kernelspec": {
   "display_name": "Python 3",
   "language": "python",
   "name": "python3"
  },
  "language_info": {
   "codemirror_mode": {
    "name": "ipython",
    "version": 3
   },
   "file_extension": ".py",
   "mimetype": "text/x-python",
   "name": "python",
   "nbconvert_exporter": "python",
   "pygments_lexer": "ipython3",
   "version": "3.7.3"
  }
 },
 "nbformat": 4,
 "nbformat_minor": 2
}
